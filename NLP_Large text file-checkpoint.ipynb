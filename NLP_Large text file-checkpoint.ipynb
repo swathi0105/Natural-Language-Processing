{
 "cells": [
  {
   "cell_type": "markdown",
   "metadata": {},
   "source": [
    "# EXPLORING POS OF LARGE TEXT FILES"
   ]
  },
  {
   "cell_type": "markdown",
   "metadata": {},
   "source": [
    "#### 1. Open any movie file from your moives sub directory"
   ]
  },
  {
   "cell_type": "code",
   "execution_count": 1,
   "metadata": {},
   "outputs": [],
   "source": [
    "import pandas as pd"
   ]
  },
  {
   "cell_type": "code",
   "execution_count": 2,
   "metadata": {},
   "outputs": [
    {
     "data": {
      "text/plain": [
       "'Richard Linklater’s astonishing new film, Boyhood, was shot over a dozen years beginning in 2002. The movie’s magic trick is that every 12 months or so Linklater gathered the same actors for a few days to check in on their characters’ lives, ultimately weaving an intimate and affecting coming-of-age tapestry of a young Texas kid named Mason (Ellar Coltrane). Like Michael Apted in his Seven Up! documentary series, Linklater makes you feel as if you’re watching a photograph as it develops in the darkroom. It’s only at the end that you realize you’ve just seen a child slowly come into focus as a young man.\\n\\nAs Mason’s time-lapse journey begins, he’s an adorable, innocent 6-year-old boy with a mop of sandy brown hair doing what 6-year-old boys do: watching cartoons, gawking at a lingerie catalog, being tortured by his older sister (played by the director’s daughter, Lorelei Linklater). But then we meet his divorced parents (Ethan Hawke and Patricia Arquette, both remarkable), and we catch a glimpse of Mason’s inner sadness. He hears each shouting match, sees each passive-aggressive gesture, and internalizes them. About every 10 minutes, the movie jumps ahead and Mason changes slightly — his hair is longer (or shorter), his voice lower. Linklater has smartly chosen not to make any one chapter too profound or eventful (although one with an abusive, alcoholic stepfather is a doozy). He taps into the rambling naturalism of his Before Sunrise, Before Sunset, and Before Midnight films to show how the events that define us are sometimes the most banal, like a father-and-son campfire conversation about Star Wars.\\n\\nBy the end of Boyhood, it’s clear how lucky Linklater was to find Coltrane. And vice versa. There’s an unfakable curiosity and vulnerability behind the young actor’s dreamy, half-mast eyes. He makes you not only care about Mason but ache for him, and pray that everything will turn out okay…even after Linklater’s camera stops rolling. '"
      ]
     },
     "execution_count": 2,
     "metadata": {},
     "output_type": "execute_result"
    }
   ],
   "source": [
    "with open('Boyhood.txt') as f:\n",
    "    lines=f.read()\n",
    "lines"
   ]
  },
  {
   "cell_type": "markdown",
   "metadata": {},
   "source": [
    "#### 2.Tokenize your movie file and print the following"
   ]
  },
  {
   "cell_type": "code",
   "execution_count": 3,
   "metadata": {},
   "outputs": [],
   "source": [
    "import nltk\n",
    "from nltk import WhitespaceTokenizer"
   ]
  },
  {
   "cell_type": "code",
   "execution_count": 4,
   "metadata": {},
   "outputs": [
    {
     "name": "stdout",
     "output_type": "stream",
     "text": [
      "321\n",
      "['Richard', 'Linklater’s', 'astonishing', 'new', 'film,', 'Boyhood,', 'was', 'shot', 'over', 'a', 'dozen', 'years', 'beginning', 'in', '2002.', 'The', 'movie’s', 'magic', 'trick', 'is', 'that', 'every', '12', 'months', 'or', 'so', 'Linklater', 'gathered', 'the', 'same', 'actors', 'for', 'a', 'few', 'days', 'to', 'check', 'in', 'on', 'their', 'characters’', 'lives,', 'ultimately', 'weaving', 'an', 'intimate', 'and', 'affecting', 'coming-of-age', 'tapestry', 'of', 'a', 'young', 'Texas', 'kid', 'named', 'Mason', '(Ellar', 'Coltrane).', 'Like', 'Michael', 'Apted', 'in', 'his', 'Seven', 'Up!', 'documentary', 'series,', 'Linklater', 'makes', 'you', 'feel', 'as', 'if', 'you’re', 'watching', 'a', 'photograph', 'as', 'it', 'develops', 'in', 'the', 'darkroom.', 'It’s', 'only', 'at', 'the', 'end', 'that', 'you', 'realize', 'you’ve', 'just', 'seen', 'a', 'child', 'slowly', 'come', 'into', 'focus', 'as', 'a', 'young', 'man.', 'As', 'Mason’s', 'time-lapse', 'journey', 'begins,', 'he’s', 'an', 'adorable,', 'innocent', '6-year-old', 'boy', 'with', 'a', 'mop', 'of', 'sandy', 'brown', 'hair', 'doing', 'what', '6-year-old', 'boys', 'do:', 'watching', 'cartoons,', 'gawking', 'at', 'a', 'lingerie', 'catalog,', 'being', 'tortured', 'by', 'his', 'older', 'sister', '(played', 'by', 'the', 'director’s', 'daughter,', 'Lorelei', 'Linklater).', 'But', 'then', 'we', 'meet', 'his', 'divorced', 'parents', '(Ethan', 'Hawke', 'and', 'Patricia', 'Arquette,', 'both', 'remarkable),', 'and', 'we', 'catch', 'a', 'glimpse', 'of', 'Mason’s', 'inner', 'sadness.', 'He', 'hears', 'each', 'shouting', 'match,', 'sees', 'each', 'passive-aggressive', 'gesture,', 'and', 'internalizes', 'them.', 'About', 'every', '10', 'minutes,', 'the', 'movie', 'jumps', 'ahead', 'and', 'Mason', 'changes', 'slightly', '—', 'his', 'hair', 'is', 'longer', '(or', 'shorter),', 'his', 'voice', 'lower.', 'Linklater', 'has', 'smartly', 'chosen', 'not', 'to', 'make', 'any', 'one', 'chapter', 'too', 'profound', 'or', 'eventful', '(although', 'one', 'with', 'an', 'abusive,', 'alcoholic', 'stepfather', 'is', 'a', 'doozy).', 'He', 'taps', 'into', 'the', 'rambling', 'naturalism', 'of', 'his', 'Before', 'Sunrise,', 'Before', 'Sunset,', 'and', 'Before', 'Midnight', 'films', 'to', 'show', 'how', 'the', 'events', 'that', 'define', 'us', 'are', 'sometimes', 'the', 'most', 'banal,', 'like', 'a', 'father-and-son', 'campfire', 'conversation', 'about', 'Star', 'Wars.', 'By', 'the', 'end', 'of', 'Boyhood,', 'it’s', 'clear', 'how', 'lucky', 'Linklater', 'was', 'to', 'find', 'Coltrane.', 'And', 'vice', 'versa.', 'There’s', 'an', 'unfakable', 'curiosity', 'and', 'vulnerability', 'behind', 'the', 'young', 'actor’s', 'dreamy,', 'half-mast', 'eyes.', 'He', 'makes', 'you', 'not', 'only', 'care', 'about', 'Mason', 'but', 'ache', 'for', 'him,', 'and', 'pray', 'that', 'everything', 'will', 'turn', 'out', 'okay…even', 'after', 'Linklater’s', 'camera', 'stops', 'rolling.']\n"
     ]
    }
   ],
   "source": [
    "tokenizer=nltk.tokenize.WhitespaceTokenizer()\n",
    "tokens=tokenizer.tokenize(lines)\n",
    "print(len(tokens))\n",
    "print(tokens)"
   ]
  },
  {
   "cell_type": "markdown",
   "metadata": {},
   "source": [
    "#### a.  How many sentences in the file?"
   ]
  },
  {
   "cell_type": "code",
   "execution_count": 5,
   "metadata": {},
   "outputs": [
    {
     "name": "stdout",
     "output_type": "stream",
     "text": [
      "[nltk_data] Downloading package punkt to\n",
      "[nltk_data]     C:\\Users\\online\\AppData\\Roaming\\nltk_data...\n",
      "[nltk_data]   Package punkt is already up-to-date!\n"
     ]
    },
    {
     "data": {
      "text/plain": [
       "True"
      ]
     },
     "execution_count": 5,
     "metadata": {},
     "output_type": "execute_result"
    }
   ],
   "source": [
    "import nltk\n",
    "nltk.download('punkt')"
   ]
  },
  {
   "cell_type": "code",
   "execution_count": 6,
   "metadata": {},
   "outputs": [
    {
     "data": {
      "text/plain": [
       "15"
      ]
     },
     "execution_count": 6,
     "metadata": {},
     "output_type": "execute_result"
    }
   ],
   "source": [
    "from nltk.tokenize import sent_tokenize\n",
    "sentences=sent_tokenize(lines)\n",
    "len(sentences)"
   ]
  },
  {
   "cell_type": "markdown",
   "metadata": {},
   "source": [
    "#### b.  How many words in the file?"
   ]
  },
  {
   "cell_type": "code",
   "execution_count": 7,
   "metadata": {},
   "outputs": [
    {
     "data": {
      "text/plain": [
       "321"
      ]
     },
     "execution_count": 7,
     "metadata": {},
     "output_type": "execute_result"
    }
   ],
   "source": [
    "from nltk.tokenize import word_tokenize\n",
    "words_in = nltk.tokenize.WhitespaceTokenizer()\n",
    "words = words_in.tokenize(lines)\n",
    "len(words)"
   ]
  },
  {
   "cell_type": "markdown",
   "metadata": {},
   "source": [
    "#### c. What are the top 10 words and their counts?"
   ]
  },
  {
   "cell_type": "code",
   "execution_count": 8,
   "metadata": {},
   "outputs": [],
   "source": [
    "import nltk\n",
    "from nltk.probability import FreqDist\n"
   ]
  },
  {
   "cell_type": "code",
   "execution_count": 9,
   "metadata": {},
   "outputs": [
    {
     "data": {
      "text/plain": [
       "[('a', 11),\n",
       " ('the', 10),\n",
       " ('and', 8),\n",
       " ('his', 6),\n",
       " ('of', 5),\n",
       " ('in', 4),\n",
       " ('that', 4),\n",
       " ('Linklater', 4),\n",
       " ('to', 4),\n",
       " ('an', 4)]"
      ]
     },
     "execution_count": 9,
     "metadata": {},
     "output_type": "execute_result"
    }
   ],
   "source": [
    "top_10w=FreqDist(words)\n",
    "top_10w.most_common(10)"
   ]
  },
  {
   "cell_type": "markdown",
   "metadata": {},
   "source": [
    "#### d. How many different POS tags are represented in this file?"
   ]
  },
  {
   "cell_type": "code",
   "execution_count": 10,
   "metadata": {},
   "outputs": [
    {
     "name": "stdout",
     "output_type": "stream",
     "text": [
      "[nltk_data] Downloading package averaged_perceptron_tagger to\n",
      "[nltk_data]     C:\\Users\\online\\AppData\\Roaming\\nltk_data...\n",
      "[nltk_data]   Unzipping taggers\\averaged_perceptron_tagger.zip.\n"
     ]
    },
    {
     "data": {
      "text/plain": [
       "True"
      ]
     },
     "execution_count": 10,
     "metadata": {},
     "output_type": "execute_result"
    }
   ],
   "source": [
    "nltk.download('averaged_perceptron_tagger')"
   ]
  },
  {
   "cell_type": "code",
   "execution_count": 11,
   "metadata": {},
   "outputs": [
    {
     "name": "stdout",
     "output_type": "stream",
     "text": [
      "[nltk_data] Downloading package stopwords to\n",
      "[nltk_data]     C:\\Users\\online\\AppData\\Roaming\\nltk_data...\n",
      "[nltk_data]   Unzipping corpora\\stopwords.zip.\n"
     ]
    }
   ],
   "source": [
    "import nltk\n",
    "nltk.download('stopwords')\n",
    "from nltk.corpus import stopwords\n",
    "stop_words = set(stopwords.words('english'))"
   ]
  },
  {
   "cell_type": "code",
   "execution_count": 12,
   "metadata": {},
   "outputs": [
    {
     "data": {
      "text/plain": [
       "18"
      ]
     },
     "execution_count": 12,
     "metadata": {},
     "output_type": "execute_result"
    }
   ],
   "source": [
    "tag = []\n",
    "d_tags = []\n",
    "words = [w for w in words if not w in stop_words]\n",
    "tagged = nltk.pos_tag(words)\n",
    "for i in tagged:\n",
    "    (word,pos)=i\n",
    "    tag.append(pos)\n",
    "for j in tag:\n",
    "    if j not in d_tags:\n",
    "        d_tags.append(j)\n",
    "len(d_tags)"
   ]
  },
  {
   "cell_type": "markdown",
   "metadata": {},
   "source": [
    "#### e.  What are the top 10 POS tags and their counts?"
   ]
  },
  {
   "cell_type": "code",
   "execution_count": 13,
   "metadata": {},
   "outputs": [
    {
     "data": {
      "text/plain": [
       "[(('Linklater', 'NNP'), 4),\n",
       " (('young', 'JJ'), 3),\n",
       " (('Mason', 'NNP'), 3),\n",
       " (('He', 'PRP'), 3),\n",
       " (('Linklater’s', 'NNP'), 2),\n",
       " (('Boyhood,', 'NNP'), 2),\n",
       " (('every', 'DT'), 2),\n",
       " (('makes', 'VBZ'), 2),\n",
       " (('watching', 'VBG'), 2),\n",
       " (('end', 'NN'), 2)]"
      ]
     },
     "execution_count": 13,
     "metadata": {},
     "output_type": "execute_result"
    }
   ],
   "source": [
    "top_pos = FreqDist(tagged)\n",
    "top_pos.most_common(10)"
   ]
  },
  {
   "cell_type": "markdown",
   "metadata": {},
   "source": [
    "#### f.  How many nouns in the file?"
   ]
  },
  {
   "cell_type": "code",
   "execution_count": 14,
   "metadata": {},
   "outputs": [
    {
     "name": "stdout",
     "output_type": "stream",
     "text": [
      "92\n"
     ]
    }
   ],
   "source": [
    "noun=0\n",
    "for i in top_pos.keys():\n",
    "    (word,pos)=i\n",
    "    if pos == 'NN' or pos == 'NNS' or pos == 'NNP' or pos == 'NNPS':\n",
    "        noun+=1\n",
    "print(noun)"
   ]
  },
  {
   "cell_type": "markdown",
   "metadata": {},
   "source": [
    "#### g.  How many verbs in the file?"
   ]
  },
  {
   "cell_type": "code",
   "execution_count": 15,
   "metadata": {},
   "outputs": [
    {
     "name": "stdout",
     "output_type": "stream",
     "text": [
      "27\n"
     ]
    }
   ],
   "source": [
    "verbs=0\n",
    "for i in top_pos.keys():\n",
    "    (word,pos)=i\n",
    "    if pos == 'VB' or pos == 'VBD' or pos == 'VBN' or pos == 'VBP' or pos == 'VBZ':\n",
    "        verbs+=1\n",
    "print(verbs)"
   ]
  },
  {
   "cell_type": "markdown",
   "metadata": {},
   "source": [
    "#### h.  How many adjectives in the file?"
   ]
  },
  {
   "cell_type": "code",
   "execution_count": 16,
   "metadata": {},
   "outputs": [
    {
     "data": {
      "text/plain": [
       "33"
      ]
     },
     "execution_count": 16,
     "metadata": {},
     "output_type": "execute_result"
    }
   ],
   "source": [
    "adj = []\n",
    "for i in top_pos.keys():\n",
    "    (word,pos)=i\n",
    "    if pos == 'JJ' or pos == 'JJR' or pos == 'JJS':\n",
    "        adj.append(i)\n",
    "len(adj)"
   ]
  },
  {
   "cell_type": "markdown",
   "metadata": {},
   "source": [
    "#### i.  How many adverbs in the file?"
   ]
  },
  {
   "cell_type": "code",
   "execution_count": 17,
   "metadata": {},
   "outputs": [
    {
     "data": {
      "text/plain": [
       "9"
      ]
     },
     "execution_count": 17,
     "metadata": {},
     "output_type": "execute_result"
    }
   ],
   "source": [
    "adv=[]\n",
    "for i in top_pos.keys():\n",
    "    (word,pos)=i\n",
    "    if pos == 'RB' or pos == 'RBR' or pos == 'RBS' or pos == 'BP':\n",
    "        adv.append(i)\n",
    "len(adv)"
   ]
  },
  {
   "cell_type": "markdown",
   "metadata": {},
   "source": [
    "#### j.  What is the most frequent adverb ?"
   ]
  },
  {
   "cell_type": "code",
   "execution_count": 18,
   "metadata": {},
   "outputs": [
    {
     "data": {
      "text/plain": [
       "[(('ultimately', 'RB'), 1)]"
      ]
     },
     "execution_count": 18,
     "metadata": {},
     "output_type": "execute_result"
    }
   ],
   "source": [
    "adv = FreqDist(adv)\n",
    "adv.most_common(1)"
   ]
  },
  {
   "cell_type": "markdown",
   "metadata": {},
   "source": [
    "#### k. What is the most frequent adjective?"
   ]
  },
  {
   "cell_type": "code",
   "execution_count": 19,
   "metadata": {},
   "outputs": [
    {
     "data": {
      "text/plain": [
       "[(('new', 'JJ'), 1)]"
      ]
     },
     "execution_count": 19,
     "metadata": {},
     "output_type": "execute_result"
    }
   ],
   "source": [
    "adj = FreqDist(adj)\n",
    "adj.most_common(1)"
   ]
  }
 ],
 "metadata": {
  "kernelspec": {
   "display_name": "Python 3 (ipykernel)",
   "language": "python",
   "name": "python3"
  },
  "language_info": {
   "codemirror_mode": {
    "name": "ipython",
    "version": 3
   },
   "file_extension": ".py",
   "mimetype": "text/x-python",
   "name": "python",
   "nbconvert_exporter": "python",
   "pygments_lexer": "ipython3",
   "version": "3.9.7"
  }
 },
 "nbformat": 4,
 "nbformat_minor": 2
}
